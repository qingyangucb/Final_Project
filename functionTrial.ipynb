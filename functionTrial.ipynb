{
 "cells": [
  {
   "cell_type": "code",
   "execution_count": 1,
   "metadata": {},
   "outputs": [
    {
     "name": "stderr",
     "output_type": "stream",
     "text": [
      "Using TensorFlow backend.\n"
     ]
    }
   ],
   "source": [
    "import getResult"
   ]
  },
  {
   "cell_type": "code",
   "execution_count": 2,
   "metadata": {},
   "outputs": [
    {
     "name": "stdout",
     "output_type": "stream",
     "text": [
      "WARNING:tensorflow:From D:\\Anaconda3\\lib\\site-packages\\tensorflow_core\\python\\ops\\resource_variable_ops.py:1630: calling BaseResourceVariable.__init__ (from tensorflow.python.ops.resource_variable_ops) with constraint is deprecated and will be removed in a future version.\n",
      "Instructions for updating:\n",
      "If using Keras pass *_constraint arguments to layers.\n",
      "WARNING:tensorflow:From D:\\Anaconda3\\lib\\site-packages\\keras\\backend\\tensorflow_backend.py:422: The name tf.global_variables is deprecated. Please use tf.compat.v1.global_variables instead.\n",
      "\n",
      "Epoch 1/50\n",
      " - 0s - loss: 1.4329 - accuracy: 0.7368\n",
      "Epoch 2/50\n",
      " - 0s - loss: 1.3792 - accuracy: 0.7368\n",
      "Epoch 3/50\n",
      " - 0s - loss: 1.3265 - accuracy: 0.7368\n",
      "Epoch 4/50\n",
      " - 0s - loss: 1.2739 - accuracy: 0.7368\n",
      "Epoch 5/50\n",
      " - 0s - loss: 1.2235 - accuracy: 0.7368\n",
      "Epoch 6/50\n",
      " - 0s - loss: 1.1769 - accuracy: 0.7368\n",
      "Epoch 7/50\n",
      " - 0s - loss: 1.1328 - accuracy: 0.7368\n",
      "Epoch 8/50\n",
      " - 0s - loss: 1.0943 - accuracy: 0.7368\n",
      "Epoch 9/50\n",
      " - 0s - loss: 1.0593 - accuracy: 0.7368\n",
      "Epoch 10/50\n",
      " - 0s - loss: 1.0295 - accuracy: 0.7368\n",
      "Epoch 11/50\n",
      " - 0s - loss: 1.0040 - accuracy: 0.7368\n",
      "Epoch 12/50\n",
      " - 0s - loss: 0.9828 - accuracy: 0.7368\n",
      "Epoch 13/50\n",
      " - 0s - loss: 0.9656 - accuracy: 0.7368\n",
      "Epoch 14/50\n",
      " - 0s - loss: 0.9511 - accuracy: 0.7368\n",
      "Epoch 15/50\n",
      " - 0s - loss: 0.9388 - accuracy: 0.7368\n",
      "Epoch 16/50\n",
      " - 0s - loss: 0.9286 - accuracy: 0.7368\n",
      "Epoch 17/50\n",
      " - 0s - loss: 0.9198 - accuracy: 0.7368\n",
      "Epoch 18/50\n",
      " - 0s - loss: 0.9117 - accuracy: 0.7368\n",
      "Epoch 19/50\n",
      " - 0s - loss: 0.9049 - accuracy: 0.7368\n",
      "Epoch 20/50\n",
      " - 0s - loss: 0.8985 - accuracy: 0.7368\n",
      "Epoch 21/50\n",
      " - 0s - loss: 0.8927 - accuracy: 0.7368\n",
      "Epoch 22/50\n",
      " - 0s - loss: 0.8875 - accuracy: 0.7368\n",
      "Epoch 23/50\n",
      " - 0s - loss: 0.8827 - accuracy: 0.7368\n",
      "Epoch 24/50\n",
      " - 0s - loss: 0.8786 - accuracy: 0.7368\n",
      "Epoch 25/50\n",
      " - 0s - loss: 0.8744 - accuracy: 0.7368\n",
      "Epoch 26/50\n",
      " - 0s - loss: 0.8710 - accuracy: 0.7368\n",
      "Epoch 27/50\n",
      " - 0s - loss: 0.8676 - accuracy: 0.7368\n",
      "Epoch 28/50\n",
      " - 0s - loss: 0.8644 - accuracy: 0.7368\n",
      "Epoch 29/50\n",
      " - 0s - loss: 0.8617 - accuracy: 0.7368\n",
      "Epoch 30/50\n",
      " - 0s - loss: 0.8590 - accuracy: 0.7368\n",
      "Epoch 31/50\n",
      " - 0s - loss: 0.8567 - accuracy: 0.7368\n",
      "Epoch 32/50\n",
      " - 0s - loss: 0.8545 - accuracy: 0.7368\n",
      "Epoch 33/50\n",
      " - 0s - loss: 0.8524 - accuracy: 0.7368\n",
      "Epoch 34/50\n",
      " - 0s - loss: 0.8505 - accuracy: 0.7368\n",
      "Epoch 35/50\n",
      " - 0s - loss: 0.8492 - accuracy: 0.7368\n",
      "Epoch 36/50\n",
      " - 0s - loss: 0.8474 - accuracy: 0.7368\n",
      "Epoch 37/50\n",
      " - 0s - loss: 0.8459 - accuracy: 0.7368\n",
      "Epoch 38/50\n",
      " - 0s - loss: 0.8446 - accuracy: 0.7368\n",
      "Epoch 39/50\n",
      " - 0s - loss: 0.8436 - accuracy: 0.7368\n",
      "Epoch 40/50\n",
      " - 0s - loss: 0.8421 - accuracy: 0.7368\n",
      "Epoch 41/50\n",
      " - 0s - loss: 0.8413 - accuracy: 0.7368\n",
      "Epoch 42/50\n",
      " - 0s - loss: 0.8405 - accuracy: 0.7368\n",
      "Epoch 43/50\n",
      " - 0s - loss: 0.8394 - accuracy: 0.7368\n",
      "Epoch 44/50\n",
      " - 0s - loss: 0.8386 - accuracy: 0.7368\n",
      "Epoch 45/50\n",
      " - 0s - loss: 0.8378 - accuracy: 0.7368\n",
      "Epoch 46/50\n",
      " - 0s - loss: 0.8373 - accuracy: 0.7368\n",
      "Epoch 47/50\n",
      " - 0s - loss: 0.8365 - accuracy: 0.7368\n",
      "Epoch 48/50\n",
      " - 0s - loss: 0.8360 - accuracy: 0.7368\n",
      "Epoch 49/50\n",
      " - 0s - loss: 0.8354 - accuracy: 0.7368\n",
      "Epoch 50/50\n",
      " - 0s - loss: 0.8350 - accuracy: 0.7368\n",
      "Epoch 1/50\n",
      " - 0s - loss: 1.7794 - accuracy: 0.2496\n",
      "Epoch 2/50\n",
      " - 0s - loss: 1.7443 - accuracy: 0.5128\n",
      "Epoch 3/50\n",
      " - 0s - loss: 1.7090 - accuracy: 0.6180\n",
      "Epoch 4/50\n",
      " - 0s - loss: 1.6720 - accuracy: 0.6271\n",
      "Epoch 5/50\n",
      " - 0s - loss: 1.6327 - accuracy: 0.6421\n",
      "Epoch 6/50\n",
      " - 0s - loss: 1.5901 - accuracy: 0.6947\n",
      "Epoch 7/50\n",
      " - 0s - loss: 1.5435 - accuracy: 0.7053\n",
      "Epoch 8/50\n",
      " - 0s - loss: 1.4935 - accuracy: 0.7053\n",
      "Epoch 9/50\n",
      " - 0s - loss: 1.4390 - accuracy: 0.7053\n",
      "Epoch 10/50\n",
      " - 0s - loss: 1.3814 - accuracy: 0.7053\n",
      "Epoch 11/50\n",
      " - 0s - loss: 1.3212 - accuracy: 0.7053\n",
      "Epoch 12/50\n",
      " - 0s - loss: 1.2602 - accuracy: 0.7053\n",
      "Epoch 13/50\n",
      " - 0s - loss: 1.1994 - accuracy: 0.7053\n",
      "Epoch 14/50\n",
      " - 0s - loss: 1.1420 - accuracy: 0.7053\n",
      "Epoch 15/50\n",
      " - 0s - loss: 1.0871 - accuracy: 0.7053\n",
      "Epoch 16/50\n",
      " - 0s - loss: 1.0383 - accuracy: 0.7053\n",
      "Epoch 17/50\n",
      " - 0s - loss: 0.9933 - accuracy: 0.7053\n",
      "Epoch 18/50\n",
      " - 0s - loss: 0.9543 - accuracy: 0.7053\n",
      "Epoch 19/50\n",
      " - 0s - loss: 0.9193 - accuracy: 0.7053\n",
      "Epoch 20/50\n",
      " - 0s - loss: 0.8890 - accuracy: 0.7053\n",
      "Epoch 21/50\n",
      " - 0s - loss: 0.8628 - accuracy: 0.7053\n",
      "Epoch 22/50\n",
      " - 0s - loss: 0.8401 - accuracy: 0.7053\n",
      "Epoch 23/50\n",
      " - 0s - loss: 0.8210 - accuracy: 0.7053\n",
      "Epoch 24/50\n",
      " - 0s - loss: 0.8044 - accuracy: 0.7053\n",
      "Epoch 25/50\n",
      " - 0s - loss: 0.7904 - accuracy: 0.7053\n",
      "Epoch 26/50\n",
      " - 0s - loss: 0.7783 - accuracy: 0.7053\n",
      "Epoch 27/50\n",
      " - 0s - loss: 0.7680 - accuracy: 0.7053\n",
      "Epoch 28/50\n",
      " - 0s - loss: 0.7592 - accuracy: 0.7053\n",
      "Epoch 29/50\n",
      " - 0s - loss: 0.7514 - accuracy: 0.7053\n",
      "Epoch 30/50\n",
      " - 0s - loss: 0.7451 - accuracy: 0.7053\n",
      "Epoch 31/50\n",
      " - 0s - loss: 0.7391 - accuracy: 0.7053\n",
      "Epoch 32/50\n",
      " - 0s - loss: 0.7341 - accuracy: 0.7053\n",
      "Epoch 33/50\n",
      " - 0s - loss: 0.7296 - accuracy: 0.7053\n",
      "Epoch 34/50\n",
      " - 0s - loss: 0.7263 - accuracy: 0.7053\n",
      "Epoch 35/50\n",
      " - 0s - loss: 0.7225 - accuracy: 0.7053\n",
      "Epoch 36/50\n",
      " - 0s - loss: 0.7195 - accuracy: 0.7053\n",
      "Epoch 37/50\n",
      " - 0s - loss: 0.7167 - accuracy: 0.7053\n",
      "Epoch 38/50\n",
      " - 0s - loss: 0.7143 - accuracy: 0.7053\n",
      "Epoch 39/50\n",
      " - 0s - loss: 0.7122 - accuracy: 0.7053\n",
      "Epoch 40/50\n",
      " - 0s - loss: 0.7100 - accuracy: 0.7053\n",
      "Epoch 41/50\n",
      " - 0s - loss: 0.7085 - accuracy: 0.7053\n",
      "Epoch 42/50\n",
      " - 0s - loss: 0.7066 - accuracy: 0.7053\n",
      "Epoch 43/50\n",
      " - 0s - loss: 0.7054 - accuracy: 0.7053\n",
      "Epoch 44/50\n",
      " - 0s - loss: 0.7041 - accuracy: 0.7053\n",
      "Epoch 45/50\n",
      " - 0s - loss: 0.7026 - accuracy: 0.7053\n",
      "Epoch 46/50\n",
      " - 0s - loss: 0.7017 - accuracy: 0.7053\n",
      "Epoch 47/50\n",
      " - 0s - loss: 0.7004 - accuracy: 0.7053\n",
      "Epoch 48/50\n",
      " - 0s - loss: 0.6995 - accuracy: 0.7053\n",
      "Epoch 49/50\n",
      " - 0s - loss: 0.6987 - accuracy: 0.7053\n",
      "Epoch 50/50\n",
      " - 0s - loss: 0.6980 - accuracy: 0.7053\n"
     ]
    }
   ],
   "source": [
    "result = getResult.getResult(37.760218, -122.69008, 'American' )"
   ]
  },
  {
   "cell_type": "code",
   "execution_count": 3,
   "metadata": {},
   "outputs": [
    {
     "data": {
      "text/plain": [
       "[0.0,\n",
       " 0.029999999329447746,\n",
       " 0.9100000262260437,\n",
       " 0.05000000074505806,\n",
       " 0.009999999776482582]"
      ]
     },
     "execution_count": 3,
     "metadata": {},
     "output_type": "execute_result"
    }
   ],
   "source": [
    "a = result[1]\n",
    "a"
   ]
  },
  {
   "cell_type": "code",
   "execution_count": 4,
   "metadata": {},
   "outputs": [
    {
     "data": {
      "text/plain": [
       "2"
      ]
     },
     "execution_count": 4,
     "metadata": {},
     "output_type": "execute_result"
    }
   ],
   "source": [
    "score = result[0]\n",
    "score"
   ]
  },
  {
   "cell_type": "code",
   "execution_count": 5,
   "metadata": {},
   "outputs": [
    {
     "data": {
      "text/plain": [
       "0.9100000262260437"
      ]
     },
     "execution_count": 5,
     "metadata": {},
     "output_type": "execute_result"
    }
   ],
   "source": [
    "b = max(a)\n",
    "b"
   ]
  },
  {
   "cell_type": "code",
   "execution_count": 6,
   "metadata": {},
   "outputs": [
    {
     "data": {
      "text/plain": [
       "2"
      ]
     },
     "execution_count": 6,
     "metadata": {},
     "output_type": "execute_result"
    }
   ],
   "source": [
    "k = a.index(b)\n",
    "k"
   ]
  },
  {
   "cell_type": "code",
   "execution_count": 7,
   "metadata": {},
   "outputs": [
    {
     "data": {
      "text/plain": [
       "5"
      ]
     },
     "execution_count": 7,
     "metadata": {},
     "output_type": "execute_result"
    }
   ],
   "source": [
    "s = len(a)\n",
    "s"
   ]
  },
  {
   "cell_type": "code",
   "execution_count": 8,
   "metadata": {},
   "outputs": [],
   "source": [
    "weighted = []\n",
    "for i in range(0,s):\n",
    "    d = k - i\n",
    "    scorei = score - d\n",
    "    weighted.append(a[i]*scorei)\n",
    "    "
   ]
  },
  {
   "cell_type": "code",
   "execution_count": 9,
   "metadata": {},
   "outputs": [
    {
     "data": {
      "text/plain": [
       "[0.0,\n",
       " 0.029999999329447746,\n",
       " 1.8200000524520874,\n",
       " 0.15000000223517418,\n",
       " 0.03999999910593033]"
      ]
     },
     "execution_count": 9,
     "metadata": {},
     "output_type": "execute_result"
    }
   ],
   "source": [
    "weighted"
   ]
  },
  {
   "cell_type": "code",
   "execution_count": 10,
   "metadata": {},
   "outputs": [
    {
     "data": {
      "text/plain": [
       "[0.0,\n",
       " 0.029999999329447746,\n",
       " 0.9100000262260437,\n",
       " 0.05000000074505806,\n",
       " 0.009999999776482582]"
      ]
     },
     "execution_count": 10,
     "metadata": {},
     "output_type": "execute_result"
    }
   ],
   "source": [
    "resultPriceList = result[1]\n",
    "resultPriceList"
   ]
  },
  {
   "cell_type": "code",
   "execution_count": 11,
   "metadata": {},
   "outputs": [
    {
     "name": "stdout",
     "output_type": "stream",
     "text": [
      "0.0\n",
      "0.029999999329447746\n",
      "1.8200000524520874\n",
      "0.15000000223517418\n",
      "0.03999999910593033\n"
     ]
    }
   ],
   "source": [
    "highest = max(resultPriceList)\n",
    "k = resultPriceList.index(highest)\n",
    "s = len(resultPriceList)\n",
    "score = result[0]\n",
    "resultPriceWeightedList = []\n",
    "for i in range(0,s):\n",
    "    d = k-i\n",
    "    scorei = score - d\n",
    "    calculated = resultPriceList[i]*scorei\n",
    "    print(calculated)\n",
    "    resultPriceWeightedList.append(calculated)"
   ]
  },
  {
   "cell_type": "code",
   "execution_count": 12,
   "metadata": {},
   "outputs": [
    {
     "data": {
      "text/plain": [
       "[0.0,\n",
       " 0.029999999329447746,\n",
       " 1.8200000524520874,\n",
       " 0.15000000223517418,\n",
       " 0.03999999910593033]"
      ]
     },
     "execution_count": 12,
     "metadata": {},
     "output_type": "execute_result"
    }
   ],
   "source": [
    "resultPriceWeightedList"
   ]
  },
  {
   "cell_type": "code",
   "execution_count": 13,
   "metadata": {},
   "outputs": [
    {
     "name": "stdout",
     "output_type": "stream",
     "text": [
      "2.0400000531226397\n"
     ]
    }
   ],
   "source": [
    "print(sum(resultPriceWeightedList))"
   ]
  },
  {
   "cell_type": "code",
   "execution_count": 14,
   "metadata": {},
   "outputs": [
    {
     "data": {
      "text/plain": [
       "2"
      ]
     },
     "execution_count": 14,
     "metadata": {},
     "output_type": "execute_result"
    }
   ],
   "source": [
    "score"
   ]
  },
  {
   "cell_type": "code",
   "execution_count": 15,
   "metadata": {},
   "outputs": [
    {
     "data": {
      "text/plain": [
       "[2,\n",
       " [0.0,\n",
       "  0.029999999329447746,\n",
       "  0.9100000262260437,\n",
       "  0.05000000074505806,\n",
       "  0.009999999776482582],\n",
       " 2.0400000531226397,\n",
       " 0.7117117047309875,\n",
       " 4,\n",
       " [0.0,\n",
       "  0.0,\n",
       "  0.009999999776482582,\n",
       "  0.25999999046325684,\n",
       "  0.7300000190734863,\n",
       "  0.0],\n",
       " 3.860000042244792,\n",
       " 0.7207207083702087]"
      ]
     },
     "execution_count": 15,
     "metadata": {},
     "output_type": "execute_result"
    }
   ],
   "source": [
    "result"
   ]
  },
  {
   "cell_type": "code",
   "execution_count": 16,
   "metadata": {},
   "outputs": [
    {
     "data": {
      "text/plain": [
       "0.7207207083702087"
      ]
     },
     "execution_count": 16,
     "metadata": {},
     "output_type": "execute_result"
    }
   ],
   "source": [
    "result[7]"
   ]
  }
 ],
 "metadata": {
  "kernelspec": {
   "display_name": "Python 3",
   "language": "python",
   "name": "python3"
  },
  "language_info": {
   "codemirror_mode": {
    "name": "ipython",
    "version": 3
   },
   "file_extension": ".py",
   "mimetype": "text/x-python",
   "name": "python",
   "nbconvert_exporter": "python",
   "pygments_lexer": "ipython3",
   "version": "3.7.4"
  }
 },
 "nbformat": 4,
 "nbformat_minor": 2
}
