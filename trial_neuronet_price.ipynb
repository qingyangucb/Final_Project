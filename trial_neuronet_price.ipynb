{
 "cells": [
  {
   "cell_type": "code",
   "execution_count": 1,
   "metadata": {},
   "outputs": [],
   "source": [
    "import pandas as pd\n",
    "import numpy as np"
   ]
  },
  {
   "cell_type": "code",
   "execution_count": 2,
   "metadata": {},
   "outputs": [],
   "source": [
    "data = pd.read_csv(\"yelp_data_clean.csv\")\n",
    "# data.head()"
   ]
  },
  {
   "cell_type": "code",
   "execution_count": 3,
   "metadata": {},
   "outputs": [
    {
     "data": {
      "text/plain": [
       "(4487, 9)"
      ]
     },
     "execution_count": 3,
     "metadata": {},
     "output_type": "execute_result"
    }
   ],
   "source": [
    "data.shape"
   ]
  },
  {
   "cell_type": "code",
   "execution_count": 4,
   "metadata": {},
   "outputs": [],
   "source": [
    "categories = ['Chinese', 'Mexican', 'Italian', 'Greek', 'French', 'Japanese', 'Thai', 'Spanish', 'Indian', 'American']\n",
    "# for name in categories:\n",
    "#     print(name)\n"
   ]
  },
  {
   "cell_type": "code",
   "execution_count": 5,
   "metadata": {},
   "outputs": [],
   "source": [
    "specific_data = data.loc[data['categories']=='American']\n",
    "X = specific_data[['latitude', 'longitude', 'rating']].to_numpy()\n",
    "# y_rating_temp = Chinese_data['rating'].to_numpy()\n",
    "y_price_temp = specific_data['price'].to_numpy()\n",
    "# y_rating_temp = y_rating_temp.reshape(-1, 1)\n",
    "y_price_temp = y_price_temp.reshape(-1,1)\n",
    "# print(y_rating_temp.max(), y_rating_temp.min())\n",
    "# print(y_price_temp.max(), y_price_temp.min())"
   ]
  },
  {
   "cell_type": "code",
   "execution_count": 6,
   "metadata": {},
   "outputs": [
    {
     "data": {
      "text/plain": [
       "array([  37.78313, -122.46623,    4.     ])"
      ]
     },
     "execution_count": 6,
     "metadata": {},
     "output_type": "execute_result"
    }
   ],
   "source": [
    "X[30]"
   ]
  },
  {
   "cell_type": "code",
   "execution_count": 9,
   "metadata": {},
   "outputs": [
    {
     "name": "stderr",
     "output_type": "stream",
     "text": [
      "Using TensorFlow backend.\n"
     ]
    }
   ],
   "source": [
    "import tensorflow as tf\n",
    "from keras.utils import to_categorical"
   ]
  },
  {
   "cell_type": "code",
   "execution_count": 7,
   "metadata": {},
   "outputs": [
    {
     "data": {
      "text/plain": [
       "'$$$'"
      ]
     },
     "execution_count": 7,
     "metadata": {},
     "output_type": "execute_result"
    }
   ],
   "source": [
    "y_price_temp[5][0]"
   ]
  },
  {
   "cell_type": "code",
   "execution_count": 11,
   "metadata": {},
   "outputs": [
    {
     "data": {
      "text/plain": [
       "array([[0., 0., 1., 0., 0.],\n",
       "       [0., 0., 1., 0., 0.],\n",
       "       [0., 0., 1., 0., 0.],\n",
       "       ...,\n",
       "       [0., 1., 0., 0., 0.],\n",
       "       [0., 1., 0., 0., 0.],\n",
       "       [0., 0., 1., 0., 0.]], dtype=float32)"
      ]
     },
     "execution_count": 11,
     "metadata": {},
     "output_type": "execute_result"
    }
   ],
   "source": [
    "m = len(y_price_temp)\n",
    "empty = np.empty(m)\n",
    "for i in range(m):\n",
    "    empty[i] = len(y_price_temp[i][0])\n",
    "y_price = empty\n",
    "y_price = to_categorical(y_price)\n",
    "y_price"
   ]
  },
  {
   "cell_type": "code",
   "execution_count": 12,
   "metadata": {},
   "outputs": [
    {
     "data": {
      "text/plain": [
       "4"
      ]
     },
     "execution_count": 12,
     "metadata": {},
     "output_type": "execute_result"
    }
   ],
   "source": [
    "y_price = y_price[:, 1:]\n",
    "size = y_price.shape[1]\n",
    "size"
   ]
  },
  {
   "cell_type": "code",
   "execution_count": 16,
   "metadata": {},
   "outputs": [
    {
     "data": {
      "text/plain": [
       "array([[0., 1., 0., 0.],\n",
       "       [0., 1., 0., 0.],\n",
       "       [0., 1., 0., 0.],\n",
       "       ...,\n",
       "       [1., 0., 0., 0.],\n",
       "       [1., 0., 0., 0.],\n",
       "       [0., 1., 0., 0.]], dtype=float32)"
      ]
     },
     "execution_count": 16,
     "metadata": {},
     "output_type": "execute_result"
    }
   ],
   "source": [
    "y_price"
   ]
  },
  {
   "cell_type": "code",
   "execution_count": 17,
   "metadata": {},
   "outputs": [],
   "source": [
    "from sklearn.model_selection import train_test_split\n",
    "X_train, X_test, y_train, y_test = train_test_split(X, y_price, random_state=1)\n",
    "\n",
    "from sklearn.preprocessing import StandardScaler\n",
    "X_scaler = StandardScaler().fit(X_train)\n",
    "\n",
    "X_train_scaled = X_scaler.transform(X_train)\n",
    "X_test_scaled = X_scaler.transform(X_test)"
   ]
  },
  {
   "cell_type": "code",
   "execution_count": 18,
   "metadata": {},
   "outputs": [
    {
     "name": "stdout",
     "output_type": "stream",
     "text": [
      "Epoch 1/150\n",
      " - 0s - loss: 1.3405 - accuracy: 0.4842\n",
      "Epoch 2/150\n",
      " - 0s - loss: 1.2974 - accuracy: 0.6000\n",
      "Epoch 3/150\n",
      " - 0s - loss: 1.2577 - accuracy: 0.6361\n",
      "Epoch 4/150\n",
      " - 0s - loss: 1.2218 - accuracy: 0.6857\n",
      "Epoch 5/150\n",
      " - 0s - loss: 1.1878 - accuracy: 0.7083\n",
      "Epoch 6/150\n",
      " - 0s - loss: 1.1566 - accuracy: 0.7173\n",
      "Epoch 7/150\n",
      " - 0s - loss: 1.1270 - accuracy: 0.7308\n",
      "Epoch 8/150\n",
      " - 0s - loss: 1.0997 - accuracy: 0.7323\n",
      "Epoch 9/150\n",
      " - 0s - loss: 1.0742 - accuracy: 0.7323\n",
      "Epoch 10/150\n",
      " - 0s - loss: 1.0498 - accuracy: 0.7323\n",
      "Epoch 11/150\n",
      " - 0s - loss: 1.0279 - accuracy: 0.7323\n",
      "Epoch 12/150\n",
      " - 0s - loss: 1.0058 - accuracy: 0.7368\n",
      "Epoch 13/150\n",
      " - 0s - loss: 0.9831 - accuracy: 0.7368\n",
      "Epoch 14/150\n",
      " - 0s - loss: 0.9589 - accuracy: 0.7368\n",
      "Epoch 15/150\n",
      " - 0s - loss: 0.9353 - accuracy: 0.7368\n",
      "Epoch 16/150\n",
      " - 0s - loss: 0.9143 - accuracy: 0.7368\n",
      "Epoch 17/150\n",
      " - 0s - loss: 0.8969 - accuracy: 0.7368\n",
      "Epoch 18/150\n",
      " - 0s - loss: 0.8830 - accuracy: 0.7368\n",
      "Epoch 19/150\n",
      " - 0s - loss: 0.8708 - accuracy: 0.7368\n",
      "Epoch 20/150\n",
      " - 0s - loss: 0.8617 - accuracy: 0.7368\n",
      "Epoch 21/150\n",
      " - 0s - loss: 0.8546 - accuracy: 0.7368\n",
      "Epoch 22/150\n",
      " - 0s - loss: 0.8487 - accuracy: 0.7368\n",
      "Epoch 23/150\n",
      " - 0s - loss: 0.8432 - accuracy: 0.7368\n",
      "Epoch 24/150\n",
      " - 0s - loss: 0.8392 - accuracy: 0.7368\n",
      "Epoch 25/150\n",
      " - 0s - loss: 0.8355 - accuracy: 0.7368\n",
      "Epoch 26/150\n",
      " - 0s - loss: 0.8322 - accuracy: 0.7368\n",
      "Epoch 27/150\n",
      " - 0s - loss: 0.8291 - accuracy: 0.7368\n",
      "Epoch 28/150\n",
      " - 0s - loss: 0.8267 - accuracy: 0.7368\n",
      "Epoch 29/150\n",
      " - 0s - loss: 0.8243 - accuracy: 0.7368\n",
      "Epoch 30/150\n",
      " - 0s - loss: 0.8221 - accuracy: 0.7368\n",
      "Epoch 31/150\n",
      " - 0s - loss: 0.8201 - accuracy: 0.7368\n",
      "Epoch 32/150\n",
      " - 0s - loss: 0.8186 - accuracy: 0.7368\n",
      "Epoch 33/150\n",
      " - 0s - loss: 0.8167 - accuracy: 0.7368\n",
      "Epoch 34/150\n",
      " - 0s - loss: 0.8151 - accuracy: 0.7368\n",
      "Epoch 35/150\n",
      " - 0s - loss: 0.8134 - accuracy: 0.7368\n",
      "Epoch 36/150\n",
      " - 0s - loss: 0.8118 - accuracy: 0.7368\n",
      "Epoch 37/150\n",
      " - 0s - loss: 0.8105 - accuracy: 0.7368\n",
      "Epoch 38/150\n",
      " - 0s - loss: 0.8091 - accuracy: 0.7368\n",
      "Epoch 39/150\n",
      " - 0s - loss: 0.8077 - accuracy: 0.7368\n",
      "Epoch 40/150\n",
      " - 0s - loss: 0.8065 - accuracy: 0.7368\n",
      "Epoch 41/150\n",
      " - 0s - loss: 0.8052 - accuracy: 0.7368\n",
      "Epoch 42/150\n",
      " - 0s - loss: 0.8037 - accuracy: 0.7368\n",
      "Epoch 43/150\n",
      " - 0s - loss: 0.8022 - accuracy: 0.7368\n",
      "Epoch 44/150\n",
      " - 0s - loss: 0.8008 - accuracy: 0.7368\n",
      "Epoch 45/150\n",
      " - 0s - loss: 0.7999 - accuracy: 0.7368\n",
      "Epoch 46/150\n",
      " - 0s - loss: 0.7987 - accuracy: 0.7368\n",
      "Epoch 47/150\n",
      " - 0s - loss: 0.7981 - accuracy: 0.7368\n",
      "Epoch 48/150\n",
      " - 0s - loss: 0.7967 - accuracy: 0.7368\n",
      "Epoch 49/150\n",
      " - 0s - loss: 0.7960 - accuracy: 0.7368\n",
      "Epoch 50/150\n",
      " - 0s - loss: 0.7953 - accuracy: 0.7368\n",
      "Epoch 51/150\n",
      " - 0s - loss: 0.7942 - accuracy: 0.7368\n",
      "Epoch 52/150\n",
      " - 0s - loss: 0.7935 - accuracy: 0.7368\n",
      "Epoch 53/150\n",
      " - 0s - loss: 0.7926 - accuracy: 0.7368\n",
      "Epoch 54/150\n",
      " - 0s - loss: 0.7918 - accuracy: 0.7368\n",
      "Epoch 55/150\n",
      " - 0s - loss: 0.7910 - accuracy: 0.7368\n",
      "Epoch 56/150\n",
      " - 0s - loss: 0.7902 - accuracy: 0.7368\n",
      "Epoch 57/150\n",
      " - 0s - loss: 0.7897 - accuracy: 0.7368\n",
      "Epoch 58/150\n",
      " - 0s - loss: 0.7888 - accuracy: 0.7368\n",
      "Epoch 59/150\n",
      " - 0s - loss: 0.7884 - accuracy: 0.7368\n",
      "Epoch 60/150\n",
      " - 0s - loss: 0.7877 - accuracy: 0.7368\n",
      "Epoch 61/150\n",
      " - 0s - loss: 0.7870 - accuracy: 0.7368\n",
      "Epoch 62/150\n",
      " - 0s - loss: 0.7867 - accuracy: 0.7368\n",
      "Epoch 63/150\n",
      " - 0s - loss: 0.7859 - accuracy: 0.7368\n",
      "Epoch 64/150\n",
      " - 0s - loss: 0.7853 - accuracy: 0.7368\n",
      "Epoch 65/150\n",
      " - 0s - loss: 0.7848 - accuracy: 0.7368\n",
      "Epoch 66/150\n",
      " - 0s - loss: 0.7841 - accuracy: 0.7368\n",
      "Epoch 67/150\n",
      " - 0s - loss: 0.7834 - accuracy: 0.7368\n",
      "Epoch 68/150\n",
      " - 0s - loss: 0.7827 - accuracy: 0.7368\n",
      "Epoch 69/150\n",
      " - 0s - loss: 0.7823 - accuracy: 0.7368\n",
      "Epoch 70/150\n",
      " - 0s - loss: 0.7818 - accuracy: 0.7368\n",
      "Epoch 71/150\n",
      " - 0s - loss: 0.7811 - accuracy: 0.7368\n",
      "Epoch 72/150\n",
      " - 0s - loss: 0.7805 - accuracy: 0.7368\n",
      "Epoch 73/150\n",
      " - 0s - loss: 0.7802 - accuracy: 0.7368\n",
      "Epoch 74/150\n",
      " - 0s - loss: 0.7797 - accuracy: 0.7368\n",
      "Epoch 75/150\n",
      " - 0s - loss: 0.7793 - accuracy: 0.7368\n",
      "Epoch 76/150\n",
      " - 0s - loss: 0.7789 - accuracy: 0.7368\n",
      "Epoch 77/150\n",
      " - 0s - loss: 0.7784 - accuracy: 0.7368\n",
      "Epoch 78/150\n",
      " - 0s - loss: 0.7779 - accuracy: 0.7368\n",
      "Epoch 79/150\n",
      " - 0s - loss: 0.7771 - accuracy: 0.7368\n",
      "Epoch 80/150\n",
      " - 0s - loss: 0.7769 - accuracy: 0.7368\n",
      "Epoch 81/150\n",
      " - 0s - loss: 0.7767 - accuracy: 0.7368\n",
      "Epoch 82/150\n",
      " - 0s - loss: 0.7768 - accuracy: 0.7368\n",
      "Epoch 83/150\n",
      " - 0s - loss: 0.7760 - accuracy: 0.7368\n",
      "Epoch 84/150\n",
      " - 0s - loss: 0.7756 - accuracy: 0.7368\n",
      "Epoch 85/150\n",
      " - 0s - loss: 0.7752 - accuracy: 0.7368\n",
      "Epoch 86/150\n",
      " - 0s - loss: 0.7750 - accuracy: 0.7368\n",
      "Epoch 87/150\n",
      " - 0s - loss: 0.7746 - accuracy: 0.7368\n",
      "Epoch 88/150\n",
      " - 0s - loss: 0.7745 - accuracy: 0.7368\n",
      "Epoch 89/150\n",
      " - 0s - loss: 0.7740 - accuracy: 0.7368\n",
      "Epoch 90/150\n",
      " - 0s - loss: 0.7741 - accuracy: 0.7368\n",
      "Epoch 91/150\n",
      " - 0s - loss: 0.7735 - accuracy: 0.7368\n",
      "Epoch 92/150\n",
      " - 0s - loss: 0.7734 - accuracy: 0.7368\n",
      "Epoch 93/150\n",
      " - 0s - loss: 0.7731 - accuracy: 0.7368\n",
      "Epoch 94/150\n",
      " - 0s - loss: 0.7729 - accuracy: 0.7368\n",
      "Epoch 95/150\n",
      " - 0s - loss: 0.7724 - accuracy: 0.7368\n",
      "Epoch 96/150\n",
      " - 0s - loss: 0.7722 - accuracy: 0.7368\n",
      "Epoch 97/150\n",
      " - 0s - loss: 0.7719 - accuracy: 0.7368\n",
      "Epoch 98/150\n",
      " - 0s - loss: 0.7721 - accuracy: 0.7368\n",
      "Epoch 99/150\n",
      " - 0s - loss: 0.7714 - accuracy: 0.7368\n",
      "Epoch 100/150\n",
      " - 0s - loss: 0.7718 - accuracy: 0.7368\n",
      "Epoch 101/150\n",
      " - 0s - loss: 0.7711 - accuracy: 0.7368\n",
      "Epoch 102/150\n",
      " - 0s - loss: 0.7711 - accuracy: 0.7368\n",
      "Epoch 103/150\n",
      " - 0s - loss: 0.7710 - accuracy: 0.7368\n",
      "Epoch 104/150\n",
      " - 0s - loss: 0.7707 - accuracy: 0.7368\n",
      "Epoch 105/150\n",
      " - 0s - loss: 0.7704 - accuracy: 0.7368\n",
      "Epoch 106/150\n",
      " - 0s - loss: 0.7705 - accuracy: 0.7368\n",
      "Epoch 107/150\n",
      " - 0s - loss: 0.7705 - accuracy: 0.7368\n",
      "Epoch 108/150\n",
      " - 0s - loss: 0.7706 - accuracy: 0.7368\n",
      "Epoch 109/150\n",
      " - 0s - loss: 0.7699 - accuracy: 0.7368\n",
      "Epoch 110/150\n",
      " - 0s - loss: 0.7698 - accuracy: 0.7368\n",
      "Epoch 111/150\n",
      " - 0s - loss: 0.7704 - accuracy: 0.7368\n",
      "Epoch 112/150\n",
      " - 0s - loss: 0.7702 - accuracy: 0.7368\n",
      "Epoch 113/150\n",
      " - 0s - loss: 0.7695 - accuracy: 0.7368\n",
      "Epoch 114/150\n",
      " - 0s - loss: 0.7698 - accuracy: 0.7368\n",
      "Epoch 115/150\n",
      " - 0s - loss: 0.7697 - accuracy: 0.7368\n",
      "Epoch 116/150\n",
      " - 0s - loss: 0.7692 - accuracy: 0.7368\n",
      "Epoch 117/150\n",
      " - 0s - loss: 0.7691 - accuracy: 0.7368\n",
      "Epoch 118/150\n",
      " - 0s - loss: 0.7693 - accuracy: 0.7368\n",
      "Epoch 119/150\n",
      " - 0s - loss: 0.7689 - accuracy: 0.7368\n",
      "Epoch 120/150\n",
      " - 0s - loss: 0.7686 - accuracy: 0.7368\n",
      "Epoch 121/150\n",
      " - 0s - loss: 0.7686 - accuracy: 0.7368\n",
      "Epoch 122/150\n",
      " - 0s - loss: 0.7684 - accuracy: 0.7368\n",
      "Epoch 123/150\n",
      " - 0s - loss: 0.7687 - accuracy: 0.7368\n",
      "Epoch 124/150\n",
      " - 0s - loss: 0.7684 - accuracy: 0.7368\n",
      "Epoch 125/150\n",
      " - 0s - loss: 0.7686 - accuracy: 0.7368\n",
      "Epoch 126/150\n",
      " - 0s - loss: 0.7685 - accuracy: 0.7368\n",
      "Epoch 127/150\n",
      " - 0s - loss: 0.7680 - accuracy: 0.7368\n",
      "Epoch 128/150\n",
      " - 0s - loss: 0.7681 - accuracy: 0.7368\n",
      "Epoch 129/150\n",
      " - 0s - loss: 0.7682 - accuracy: 0.7368\n",
      "Epoch 130/150\n",
      " - 0s - loss: 0.7680 - accuracy: 0.7368\n",
      "Epoch 131/150\n",
      " - 0s - loss: 0.7681 - accuracy: 0.7368\n",
      "Epoch 132/150\n",
      " - 0s - loss: 0.7679 - accuracy: 0.7368\n",
      "Epoch 133/150\n",
      " - 0s - loss: 0.7678 - accuracy: 0.7368\n",
      "Epoch 134/150\n",
      " - 0s - loss: 0.7676 - accuracy: 0.7368\n",
      "Epoch 135/150\n",
      " - 0s - loss: 0.7676 - accuracy: 0.7368\n",
      "Epoch 136/150\n",
      " - 0s - loss: 0.7674 - accuracy: 0.7368\n",
      "Epoch 137/150\n",
      " - 0s - loss: 0.7675 - accuracy: 0.7368\n",
      "Epoch 138/150\n",
      " - 0s - loss: 0.7674 - accuracy: 0.7368\n",
      "Epoch 139/150\n",
      " - 0s - loss: 0.7671 - accuracy: 0.7368\n",
      "Epoch 140/150\n",
      " - 0s - loss: 0.7673 - accuracy: 0.7368\n",
      "Epoch 141/150\n",
      " - 0s - loss: 0.7673 - accuracy: 0.7368\n",
      "Epoch 142/150\n",
      " - 0s - loss: 0.7672 - accuracy: 0.7368\n",
      "Epoch 143/150\n",
      " - 0s - loss: 0.7670 - accuracy: 0.7368\n",
      "Epoch 144/150\n",
      " - 0s - loss: 0.7670 - accuracy: 0.7368\n",
      "Epoch 145/150\n",
      " - 0s - loss: 0.7668 - accuracy: 0.7368\n",
      "Epoch 146/150\n",
      " - 0s - loss: 0.7668 - accuracy: 0.7368\n",
      "Epoch 147/150\n",
      " - 0s - loss: 0.7668 - accuracy: 0.7368\n",
      "Epoch 148/150\n",
      " - 0s - loss: 0.7668 - accuracy: 0.7368\n",
      "Epoch 149/150\n",
      " - 0s - loss: 0.7667 - accuracy: 0.7368\n",
      "Epoch 150/150\n",
      " - 0s - loss: 0.7666 - accuracy: 0.7368\n"
     ]
    },
    {
     "data": {
      "text/plain": [
       "<keras.callbacks.callbacks.History at 0x1f16c2eb188>"
      ]
     },
     "execution_count": 18,
     "metadata": {},
     "output_type": "execute_result"
    }
   ],
   "source": [
    "from keras.models import Sequential\n",
    "\n",
    "model = Sequential()\n",
    "from keras.layers import Dense\n",
    "model.add(Dense(units=4, activation='relu', input_dim=3))\n",
    "model.add(Dense(units=5, activation='relu'))\n",
    "model.add(Dense(units=size, activation='softmax'))\n",
    "\n",
    "model.compile(optimizer='adam',\n",
    "              loss='categorical_crossentropy',\n",
    "              metrics=['accuracy'])\n",
    "\n",
    "model.fit(\n",
    "    X_train_scaled,\n",
    "    y_train,\n",
    "    epochs=150,\n",
    "    shuffle=True,\n",
    "    verbose=2\n",
    ")"
   ]
  },
  {
   "cell_type": "code",
   "execution_count": 14,
   "metadata": {},
   "outputs": [
    {
     "name": "stdout",
     "output_type": "stream",
     "text": [
      "Deep Neural Network - Loss: 0.8372505715301445, Accuracy: 0.7117117047309875\n"
     ]
    }
   ],
   "source": [
    "model_loss, model_accuracy = model.evaluate(\n",
    "    X_test_scaled, y_test, verbose=2)\n",
    "print(\n",
    "    f\"Deep Neural Network - Loss: {model_loss}, Accuracy: {model_accuracy}\")"
   ]
  },
  {
   "cell_type": "code",
   "execution_count": 15,
   "metadata": {},
   "outputs": [
    {
     "name": "stdout",
     "output_type": "stream",
     "text": [
      "[[0.09 0.76 0.14 0.01]]\n",
      "[[0.03 0.88 0.09 0.  ]]\n",
      "[[0.07 0.69 0.17 0.07]]\n",
      "[[0.07 0.71 0.17 0.05]]\n",
      "[[0.06 0.82 0.12 0.  ]]\n",
      "[[0.07 0.69 0.16 0.07]]\n",
      "[[0.14 0.63 0.17 0.06]]\n",
      "[[0.08 0.81 0.11 0.  ]]\n",
      "[[0.05 0.82 0.13 0.01]]\n"
     ]
    }
   ],
   "source": [
    "print(model.predict(X_train_scaled[[1]]).round(2))\n",
    "print(model.predict(X_train_scaled[[6]]).round(2))\n",
    "print(model.predict(X_train_scaled[[10]]).round(2))\n",
    "print(model.predict(X_train_scaled[[25]]).round(2))\n",
    "print(model.predict(X_train_scaled[[30]]).round(2))\n",
    "print(model.predict(X_train_scaled[[40]]).round(2))\n",
    "print(model.predict(X_train_scaled[[50]]).round(2))\n",
    "print(model.predict(X_train_scaled[[65]]).round(2))\n",
    "print(model.predict(X_train_scaled[[85]]).round(2))"
   ]
  },
  {
   "cell_type": "code",
   "execution_count": 16,
   "metadata": {},
   "outputs": [],
   "source": [
    "# X_train_scaled[0]"
   ]
  },
  {
   "cell_type": "code",
   "execution_count": 17,
   "metadata": {},
   "outputs": [],
   "source": [
    "# y_test"
   ]
  }
 ],
 "metadata": {
  "kernelspec": {
   "display_name": "Python 3",
   "language": "python",
   "name": "python3"
  },
  "language_info": {
   "codemirror_mode": {
    "name": "ipython",
    "version": 3
   },
   "file_extension": ".py",
   "mimetype": "text/x-python",
   "name": "python",
   "nbconvert_exporter": "python",
   "pygments_lexer": "ipython3",
   "version": "3.7.4"
  }
 },
 "nbformat": 4,
 "nbformat_minor": 2
}
