{
 "cells": [
  {
   "cell_type": "code",
   "execution_count": 39,
   "metadata": {},
   "outputs": [],
   "source": [
    "import pandas as pd\n",
    "import numpy as np\n",
    "from keras.utils import to_categorical\n",
    "import matplotlib.pyplot as plt"
   ]
  },
  {
   "cell_type": "code",
   "execution_count": 2,
   "metadata": {},
   "outputs": [
    {
     "data": {
      "text/html": [
       "<div>\n",
       "<style scoped>\n",
       "    .dataframe tbody tr th:only-of-type {\n",
       "        vertical-align: middle;\n",
       "    }\n",
       "\n",
       "    .dataframe tbody tr th {\n",
       "        vertical-align: top;\n",
       "    }\n",
       "\n",
       "    .dataframe thead th {\n",
       "        text-align: right;\n",
       "    }\n",
       "</style>\n",
       "<table border=\"1\" class=\"dataframe\">\n",
       "  <thead>\n",
       "    <tr style=\"text-align: right;\">\n",
       "      <th></th>\n",
       "      <th>name</th>\n",
       "      <th>location</th>\n",
       "      <th>rating</th>\n",
       "      <th>review_count</th>\n",
       "      <th>price</th>\n",
       "      <th>categories</th>\n",
       "      <th>coordinates</th>\n",
       "      <th>latitude</th>\n",
       "      <th>longitude</th>\n",
       "    </tr>\n",
       "  </thead>\n",
       "  <tbody>\n",
       "    <tr>\n",
       "      <td>0</td>\n",
       "      <td>San Tung</td>\n",
       "      <td>1031 Irving St San Francisco, CA 94122</td>\n",
       "      <td>4.0</td>\n",
       "      <td>6749</td>\n",
       "      <td>$$</td>\n",
       "      <td>Chinese</td>\n",
       "      <td>{'latitude': 37.763693, 'longitude': -122.469008}</td>\n",
       "      <td>37.763693</td>\n",
       "      <td>-122.469008</td>\n",
       "    </tr>\n",
       "    <tr>\n",
       "      <td>1</td>\n",
       "      <td>Hunan Home's Restaurant</td>\n",
       "      <td>622 Jackson St San Francisco, CA 94133</td>\n",
       "      <td>4.0</td>\n",
       "      <td>2130</td>\n",
       "      <td>$$</td>\n",
       "      <td>Chinese</td>\n",
       "      <td>{'latitude': 37.7964057922363, 'longitude': -1...</td>\n",
       "      <td>37.796406</td>\n",
       "      <td>-122.405655</td>\n",
       "    </tr>\n",
       "    <tr>\n",
       "      <td>2</td>\n",
       "      <td>Kung Food</td>\n",
       "      <td>1615 McAllister St San Francisco, CA 94115</td>\n",
       "      <td>4.0</td>\n",
       "      <td>505</td>\n",
       "      <td>$$</td>\n",
       "      <td>Chinese</td>\n",
       "      <td>{'latitude': 37.7776557732483, 'longitude': -1...</td>\n",
       "      <td>37.777656</td>\n",
       "      <td>-122.438783</td>\n",
       "    </tr>\n",
       "    <tr>\n",
       "      <td>3</td>\n",
       "      <td>Sam Wo Restaurant</td>\n",
       "      <td>713 Clay St San Francisco, CA 94108</td>\n",
       "      <td>3.5</td>\n",
       "      <td>1036</td>\n",
       "      <td>$</td>\n",
       "      <td>Chinese</td>\n",
       "      <td>{'latitude': 37.7942543029785, 'longitude': -1...</td>\n",
       "      <td>37.794254</td>\n",
       "      <td>-122.405113</td>\n",
       "    </tr>\n",
       "    <tr>\n",
       "      <td>4</td>\n",
       "      <td>Cheung Hing</td>\n",
       "      <td>2339 Noriega St San Francisco, CA 94122</td>\n",
       "      <td>4.0</td>\n",
       "      <td>646</td>\n",
       "      <td>$</td>\n",
       "      <td>Chinese</td>\n",
       "      <td>{'latitude': 37.75343, 'longitude': -122.48892}</td>\n",
       "      <td>37.753430</td>\n",
       "      <td>-122.488920</td>\n",
       "    </tr>\n",
       "  </tbody>\n",
       "</table>\n",
       "</div>"
      ],
      "text/plain": [
       "                      name                                    location  \\\n",
       "0                 San Tung      1031 Irving St San Francisco, CA 94122   \n",
       "1  Hunan Home's Restaurant      622 Jackson St San Francisco, CA 94133   \n",
       "2                Kung Food  1615 McAllister St San Francisco, CA 94115   \n",
       "3        Sam Wo Restaurant         713 Clay St San Francisco, CA 94108   \n",
       "4              Cheung Hing     2339 Noriega St San Francisco, CA 94122   \n",
       "\n",
       "   rating  review_count price categories  \\\n",
       "0     4.0          6749    $$    Chinese   \n",
       "1     4.0          2130    $$    Chinese   \n",
       "2     4.0           505    $$    Chinese   \n",
       "3     3.5          1036     $    Chinese   \n",
       "4     4.0           646     $    Chinese   \n",
       "\n",
       "                                         coordinates   latitude   longitude  \n",
       "0  {'latitude': 37.763693, 'longitude': -122.469008}  37.763693 -122.469008  \n",
       "1  {'latitude': 37.7964057922363, 'longitude': -1...  37.796406 -122.405655  \n",
       "2  {'latitude': 37.7776557732483, 'longitude': -1...  37.777656 -122.438783  \n",
       "3  {'latitude': 37.7942543029785, 'longitude': -1...  37.794254 -122.405113  \n",
       "4    {'latitude': 37.75343, 'longitude': -122.48892}  37.753430 -122.488920  "
      ]
     },
     "execution_count": 2,
     "metadata": {},
     "output_type": "execute_result"
    }
   ],
   "source": [
    "data = pd.read_csv(\"yelp_data_clean.csv\")\n",
    "data.head()"
   ]
  },
  {
   "cell_type": "code",
   "execution_count": 34,
   "metadata": {},
   "outputs": [
    {
     "data": {
      "text/plain": [
       "'$$$'"
      ]
     },
     "execution_count": 34,
     "metadata": {},
     "output_type": "execute_result"
    }
   ],
   "source": [
    "x = data['rating']\n",
    "y = data['price']"
   ]
  },
  {
   "cell_type": "code",
   "execution_count": 35,
   "metadata": {},
   "outputs": [],
   "source": [
    "m = len(y)\n",
    "empty = np.empty(m)\n",
    "for i in range(m):\n",
    "    empty[i] = len(y[i])\n",
    "y = empty"
   ]
  },
  {
   "cell_type": "code",
   "execution_count": 42,
   "metadata": {},
   "outputs": [
    {
     "data": {
      "text/plain": [
       "<matplotlib.collections.PathCollection at 0x22542f44a08>"
      ]
     },
     "execution_count": 42,
     "metadata": {},
     "output_type": "execute_result"
    },
    {
     "data": {
      "image/png": "[encoded data removed]",
      "text/plain": [
       "<Figure size 432x288 with 1 Axes>"
      ]
     },
     "metadata": {
      "needs_background": "light"
     },
     "output_type": "display_data"
    }
   ],
   "source": [
    "plt.scatter(x,y)"
   ]
  }
 ],
 "metadata": {
  "kernelspec": {
   "display_name": "Python 3",
   "language": "python",
   "name": "python3"
  },
  "language_info": {
   "codemirror_mode": {
    "name": "ipython",
    "version": 3
   },
   "file_extension": ".py",
   "mimetype": "text/x-python",
   "name": "python",
   "nbconvert_exporter": "python",
   "pygments_lexer": "ipython3",
   "version": "3.7.4"
  }
 },
 "nbformat": 4,
 "nbformat_minor": 2
}
